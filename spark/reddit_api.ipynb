{
 "cells": [
  {
   "cell_type": "code",
   "execution_count": 2,
   "id": "f41f51db-a2ce-4aae-a404-6d973d006934",
   "metadata": {},
   "outputs": [],
   "source": [
    "import requests\n",
    "import requests.auth\n",
    "import os"
   ]
  },
  {
   "cell_type": "markdown",
   "id": "56455576-bc40-4d2f-b478-d202fb7ed5fd",
   "metadata": {},
   "source": [
    "## Get the Auth token with env variables"
   ]
  },
  {
   "cell_type": "code",
   "execution_count": 11,
   "id": "7b4d2576-2130-40c0-a33c-234e50e6ebc0",
   "metadata": {},
   "outputs": [],
   "source": [
    "# https://github.com/reddit-archive/reddit/wiki/OAuth2-Quick-Start-Example#first-steps"
   ]
  },
  {
   "cell_type": "code",
   "execution_count": 3,
   "id": "22e1d2f4-00a2-42ab-b86a-960c38ba1beb",
   "metadata": {},
   "outputs": [
    {
     "data": {
      "text/plain": [
       "'i_am_baldilocks'"
      ]
     },
     "execution_count": 3,
     "metadata": {},
     "output_type": "execute_result"
    }
   ],
   "source": [
    "os.environ.get(\"USERNAME\")"
   ]
  },
  {
   "cell_type": "code",
   "execution_count": 4,
   "id": "986b25fc-29f0-49e7-80f8-56a08d845069",
   "metadata": {},
   "outputs": [],
   "source": [
    "client_auth = requests.auth.HTTPBasicAuth(os.environ.get(\"CLIENT_ID\"), os.environ.get(\"CLIENT_SECRET\"))"
   ]
  },
  {
   "cell_type": "code",
   "execution_count": 5,
   "id": "e88dbffe-c707-46e9-b577-51c91cb291a0",
   "metadata": {},
   "outputs": [],
   "source": [
    "post_data = {\"grant_type\": \"password\", \"username\": os.environ.get(\"USERNAME\"), \"password\": os.environ.get(\"PASSWORD\")}"
   ]
  },
  {
   "cell_type": "code",
   "execution_count": 6,
   "id": "c35840f9-1a01-4979-aa21-2cbb7c0842ad",
   "metadata": {},
   "outputs": [],
   "source": [
    "headers = {\"User-Agent\": \"BaldilocksClient/0.1 by i_am_baldilocks\"}"
   ]
  },
  {
   "cell_type": "code",
   "execution_count": 15,
   "id": "7a5970e5-2133-4701-8ac9-f979bcd33d98",
   "metadata": {},
   "outputs": [],
   "source": [
    "response_access_token = requests.post(\"https://www.reddit.com/api/v1/access_token\", auth=client_auth, data=post_data, headers=headers)\n"
   ]
  },
  {
   "cell_type": "code",
   "execution_count": 29,
   "id": "c5de4d78-15eb-498c-a74e-ac3e8edd3ae7",
   "metadata": {},
   "outputs": [],
   "source": [
    "#response_access_token.json()"
   ]
  },
  {
   "cell_type": "markdown",
   "id": "bcc98200-77fc-4587-aa17-705c0c82f814",
   "metadata": {},
   "source": [
    "## Get data with auth token"
   ]
  },
  {
   "cell_type": "code",
   "execution_count": 30,
   "id": "51407767-5045-4476-8af1-c051e422ea41",
   "metadata": {},
   "outputs": [],
   "source": [
    "headers = {\"Authorization\": \"Bearer \" + response_access_token.json()['access_token'], \"User-Agent\": \"BaldilocksClient/0.1 by i_am_baldilocks\"}\n",
    "response = requests.get(\"https://oauth.reddit.com/api/v1/me\", headers=headers)\n"
   ]
  },
  {
   "cell_type": "code",
   "execution_count": 31,
   "id": "5648a46c-0ee8-48e4-9ffe-6739b7c02cdd",
   "metadata": {},
   "outputs": [
    {
     "data": {
      "text/plain": [
       "{'is_employee': False,\n",
       " 'seen_layout_switch': True,\n",
       " 'has_visited_new_profile': True,\n",
       " 'pref_no_profanity': True,\n",
       " 'has_external_account': False,\n",
       " 'pref_geopopular': '',\n",
       " 'seen_redesign_modal': True,\n",
       " 'pref_show_trending': True,\n",
       " 'subreddit': {'default_set': True,\n",
       "  'user_is_contributor': False,\n",
       "  'banner_img': '',\n",
       "  'restrict_posting': True,\n",
       "  'user_is_banned': False,\n",
       "  'free_form_reports': True,\n",
       "  'community_icon': None,\n",
       "  'show_media': True,\n",
       "  'icon_color': '#00F4CB',\n",
       "  'user_is_muted': None,\n",
       "  'display_name': 'u_i_am_baldilocks',\n",
       "  'header_img': None,\n",
       "  'title': '',\n",
       "  'coins': 0,\n",
       "  'previous_names': [],\n",
       "  'over_18': False,\n",
       "  'icon_size': [256, 256],\n",
       "  'primary_color': '',\n",
       "  'icon_img': 'https://www.redditstatic.com/avatars/defaults/v2/avatar_default_4.png',\n",
       "  'description': '',\n",
       "  'allowed_media_in_comments': [],\n",
       "  'submit_link_label': '',\n",
       "  'header_size': None,\n",
       "  'restrict_commenting': False,\n",
       "  'subscribers': 31,\n",
       "  'submit_text_label': '',\n",
       "  'is_default_icon': True,\n",
       "  'link_flair_position': '',\n",
       "  'display_name_prefixed': 'u/i_am_baldilocks',\n",
       "  'key_color': '',\n",
       "  'name': 't5_c1njx',\n",
       "  'is_default_banner': True,\n",
       "  'url': '/user/i_am_baldilocks/',\n",
       "  'quarantine': False,\n",
       "  'banner_size': None,\n",
       "  'user_is_moderator': True,\n",
       "  'accept_followers': True,\n",
       "  'public_description': '',\n",
       "  'link_flair_enabled': False,\n",
       "  'disable_contributor_requests': False,\n",
       "  'subreddit_type': 'user',\n",
       "  'user_is_subscriber': False},\n",
       " 'pref_show_presence': True,\n",
       " 'snoovatar_img': '',\n",
       " 'snoovatar_size': None,\n",
       " 'gold_expiration': None,\n",
       " 'has_gold_subscription': False,\n",
       " 'is_sponsor': False,\n",
       " 'num_friends': 0,\n",
       " 'features': {'modmail_harassment_filter': True,\n",
       "  'mod_service_mute_writes': True,\n",
       "  'promoted_trend_blanks': True,\n",
       "  'show_amp_link': True,\n",
       "  'is_email_permission_required': False,\n",
       "  'mod_awards': True,\n",
       "  'expensive_coins_package': True,\n",
       "  'mweb_xpromo_revamp_v2': {'owner': 'growth',\n",
       "   'variant': 'control_1',\n",
       "   'experiment_id': 457},\n",
       "  'awards_on_streams': True,\n",
       "  'mweb_xpromo_modal_listing_click_daily_dismissible_ios': True,\n",
       "  'chat_subreddit': True,\n",
       "  'cookie_consent_banner': True,\n",
       "  'modlog_copyright_removal': True,\n",
       "  'do_not_track': True,\n",
       "  'images_in_comments': True,\n",
       "  'mod_service_mute_reads': True,\n",
       "  'chat_user_settings': True,\n",
       "  'use_pref_account_deployment': True,\n",
       "  'mweb_xpromo_interstitial_comments_ios': True,\n",
       "  'mweb_sharing_clipboard': {'owner': 'growth',\n",
       "   'variant': 'control_2',\n",
       "   'experiment_id': 315},\n",
       "  'premium_subscriptions_table': True,\n",
       "  'mweb_xpromo_interstitial_comments_android': True,\n",
       "  'crowd_control_for_post': True,\n",
       "  'mweb_xpromo_modal_listing_click_daily_dismissible_android': True,\n",
       "  'chat_group_rollout': True,\n",
       "  'resized_styles_images': True,\n",
       "  'noreferrer_to_noopener': True},\n",
       " 'can_edit_name': False,\n",
       " 'verified': True,\n",
       " 'new_modmail_exists': None,\n",
       " 'pref_autoplay': True,\n",
       " 'coins': 0,\n",
       " 'has_paypal_subscription': False,\n",
       " 'has_subscribed_to_premium': False,\n",
       " 'id': 'aewcc',\n",
       " 'has_stripe_subscription': False,\n",
       " 'oauth_client_id': '_XChEkJ5XZlV8KP8bPnNzg',\n",
       " 'can_create_subreddit': True,\n",
       " 'over_18': True,\n",
       " 'is_gold': False,\n",
       " 'is_mod': False,\n",
       " 'awarder_karma': 0,\n",
       " 'suspension_expiration_utc': None,\n",
       " 'has_verified_email': True,\n",
       " 'is_suspended': False,\n",
       " 'pref_video_autoplay': True,\n",
       " 'has_android_subscription': False,\n",
       " 'in_redesign_beta': True,\n",
       " 'icon_img': 'https://www.redditstatic.com/avatars/defaults/v2/avatar_default_4.png',\n",
       " 'has_mod_mail': False,\n",
       " 'pref_nightmode': False,\n",
       " 'awardee_karma': 0,\n",
       " 'hide_from_robots': False,\n",
       " 'password_set': True,\n",
       " 'link_karma': 510,\n",
       " 'force_password_reset': False,\n",
       " 'total_karma': 980,\n",
       " 'seen_give_award_tooltip': False,\n",
       " 'inbox_count': 0,\n",
       " 'seen_premium_adblock_modal': False,\n",
       " 'pref_top_karma_subreddits': True,\n",
       " 'has_mail': False,\n",
       " 'pref_show_snoovatar': False,\n",
       " 'name': 'i_am_baldilocks',\n",
       " 'pref_clickgadget': 5,\n",
       " 'created': 1359526739.0,\n",
       " 'gold_creddits': 0,\n",
       " 'created_utc': 1359526739.0,\n",
       " 'has_ios_subscription': False,\n",
       " 'pref_show_twitter': False,\n",
       " 'in_beta': False,\n",
       " 'comment_karma': 470,\n",
       " 'accept_followers': True,\n",
       " 'has_subscribed': True,\n",
       " 'linked_identities': [],\n",
       " 'seen_subreddit_chat_ftux': True}"
      ]
     },
     "execution_count": 31,
     "metadata": {},
     "output_type": "execute_result"
    }
   ],
   "source": [
    "response.json()"
   ]
  },
  {
   "cell_type": "code",
   "execution_count": null,
   "id": "dfdc7ef9-7553-4355-87d3-795f0573942a",
   "metadata": {},
   "outputs": [],
   "source": []
  }
 ],
 "metadata": {
  "kernelspec": {
   "display_name": "Python 3 (ipykernel)",
   "language": "python",
   "name": "python3"
  },
  "language_info": {
   "codemirror_mode": {
    "name": "ipython",
    "version": 3
   },
   "file_extension": ".py",
   "mimetype": "text/x-python",
   "name": "python",
   "nbconvert_exporter": "python",
   "pygments_lexer": "ipython3",
   "version": "3.11.2"
  }
 },
 "nbformat": 4,
 "nbformat_minor": 5
}
